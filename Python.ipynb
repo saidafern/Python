{
 "cells": [
  {
   "cell_type": "code",
   "execution_count": 1,
   "metadata": {},
   "outputs": [],
   "source": [
    "#Function of observed substrings\n",
    "def substring(string, k):\n",
    "    #creates an empty dictionary\n",
    "    sub_dict = {}\n",
    "    #loops through the range of the indices of the string\n",
    "    for i in range(len(string)- k + 1):\n",
    "        #extracts the substring you want\n",
    "        sub = string[i : i + k]\n",
    "        #checks if the substring is in the dictionary \n",
    "        if sub in sub_dict:\n",
    "            #updates the dictionary if theres a same substring and increments it by 1\n",
    "            sub_dict[sub] += 1\n",
    "        else:\n",
    "            #creates a new pair when encountering it for the first time\n",
    "            sub_dict[sub] = 1  \n",
    "    #returns the new dictionary with all the substrings within it \n",
    "    return sub_dict"
   ]
  },
  {
   "cell_type": "code",
   "execution_count": 44,
   "metadata": {},
   "outputs": [
    {
     "name": "stdout",
     "output_type": "stream",
     "text": [
      "{'ATG': 1, 'TGT': 3, 'GTC': 2, 'TCT': 2, 'CTG': 2, 'GTA': 1}\n"
     ]
    }
   ],
   "source": [
    "#create a string \n",
    "string = \"ATGTCTGTCTGTA\"\n",
    "#give it a size value of k\n",
    "k = 3\n",
    "#call the function with the given pairs\n",
    "sub_dict = substring(string, k)\n",
    "#prints the result\n",
    "print(sub_dict)"
   ]
  },
  {
   "cell_type": "code",
   "execution_count": 5,
   "metadata": {},
   "outputs": [],
   "source": [
    "#Function of possible substrings\n",
    "def substring_poss(string, k):\n",
    "    #checks to see if k is greater than the length of the string\n",
    "    if k > len(string):\n",
    "        #if so it returns 0\n",
    "        return 0\n",
    "    #if k is less than or equal to the length of the string it initalizes\n",
    "    #a possible to 0\n",
    "    possible = 0\n",
    "    #iterates over the range of the strings length\n",
    "    for i in range(len(string)- k + 1):\n",
    "        #increments it with 1\n",
    "        possible += 1\n",
    "    #returns the possiblities \n",
    "    return possible"
   ]
  },
  {
   "cell_type": "code",
   "execution_count": 42,
   "metadata": {},
   "outputs": [
    {
     "name": "stdout",
     "output_type": "stream",
     "text": [
      "5\n"
     ]
    }
   ],
   "source": [
    "string = \"AAAAAA\"\n",
    "k = 2\n",
    "possible = substring_poss(string, k)\n",
    "print(possible)"
   ]
  },
  {
   "cell_type": "code",
   "execution_count": 37,
   "metadata": {},
   "outputs": [],
   "source": [
    "def complexity(string,k):\n",
    "    #Empty dicttionaries for the substrings\n",
    "    observation = {}\n",
    "    possiblities = {}\n",
    "    #Iterate over the substring and half of it\n",
    "    for i in range(1, len(string) // 2 + 1):\n",
    "        #Calculates observed and possile substrings of len k\n",
    "        obs_sub = substring(string, i)\n",
    "        pos_sub = substring_poss(string, i)\n",
    "        #adds a count to the dictionaries of the observed and possible substring length\n",
    "        observation[i] = len(obs_sub)\n",
    "        possiblities[i] = pos_sub\n",
    "    #Calculates the total of observation and possiblities substring\n",
    "    obs_total = sum(observation.values())\n",
    "    poss_total = sum(possiblities.values())\n",
    "    \n",
    "    #Returns the ling complexity\n",
    "    return obs_total/poss_total"
   ]
  },
  {
   "cell_type": "code",
   "execution_count": 46,
   "metadata": {},
   "outputs": [
    {
     "name": "stdout",
     "output_type": "stream",
     "text": [
      "0.5396825396825397\n"
     ]
    }
   ],
   "source": [
    "string = \"ATGTCTGTCTGTA\"\n",
    "k = 2\n",
    "comp = complexity(string,k)\n",
    "print(comp)"
   ]
  },
  {
   "cell_type": "code",
   "execution_count": 39,
   "metadata": {},
   "outputs": [
    {
     "name": "stdout",
     "output_type": "stream",
     "text": [
      "Defaulting to user installation because normal site-packages is not writeable\n",
      "Requirement already satisfied: pytest in /usr/local/lib/python3.6/site-packages (5.4.1)\n",
      "Requirement already satisfied: wcwidth in /usr/lib/python3.6/site-packages (from pytest) (0.1.7)\n",
      "Requirement already satisfied: py>=1.5.0 in /usr/local/lib/python3.6/site-packages (from pytest) (1.8.1)\n",
      "Requirement already satisfied: pluggy<1.0,>=0.12 in /usr/local/lib/python3.6/site-packages (from pytest) (0.13.1)\n",
      "Requirement already satisfied: packaging in /usr/local/lib/python3.6/site-packages (from pytest) (20.3)\n",
      "Requirement already satisfied: more-itertools>=4.0.0 in /usr/local/lib/python3.6/site-packages (from pytest) (8.2.0)\n",
      "Requirement already satisfied: importlib-metadata>=0.12 in /usr/local/lib/python3.6/site-packages (from pytest) (4.8.3)\n",
      "Requirement already satisfied: attrs>=17.4.0 in /usr/lib/python3.6/site-packages (from pytest) (19.1.0)\n",
      "Requirement already satisfied: typing-extensions>=3.6.4 in /usr/local/lib/python3.6/site-packages (from importlib-metadata>=0.12->pytest) (3.7.4.3)\n",
      "Requirement already satisfied: zipp>=0.5 in /usr/local/lib/python3.6/site-packages (from importlib-metadata>=0.12->pytest) (3.1.0)\n",
      "Requirement already satisfied: pyparsing>=2.0.2 in /usr/local/lib/python3.6/site-packages (from packaging->pytest) (2.4.7)\n",
      "Requirement already satisfied: six in /usr/local/lib/python3.6/site-packages (from packaging->pytest) (1.15.0)\n",
      "Note: you may need to restart the kernel to use updated packages.\n"
     ]
    }
   ],
   "source": [
    "pip install pytest"
   ]
  },
  {
   "cell_type": "code",
   "execution_count": 50,
   "metadata": {},
   "outputs": [
    {
     "name": "stdout",
     "output_type": "stream",
     "text": [
      "============================= test session starts ==============================\n",
      "platform linux -- Python 3.6.8, pytest-5.4.1, py-1.8.1, pluggy-0.13.1\n",
      "rootdir: /mnt/homes4celsrs/saidafern\n",
      "plugins: anyio-3.1.0\n",
      "collected 3 items\n",
      "\n",
      "Test_function.py FFF                                                     [100%]\n",
      "\n",
      "=================================== FAILURES ===================================\n",
      "________________________________ test_substring ________________________________\n",
      "\n",
      "        assert substring(\"AAAAAA\", 2) == {'AA': 5}\n",
      "        #Test Case 2\n",
      "        assert substring(\"ATGTCTGTCTGTA\", 3) == {'ATG': 1, 'TGT': 3, 'GTC': 2, 'TCT': 2, 'CTG': 2, 'GTA': 1}\n",
      "    \n",
      ">   def test_substring_poss():\n",
      "E   AssertionError: assert {'ATGTC': 1, ...TCTG': 2, ...} == {'ATGTC': 1, ...1, 'TCTGT': 2}\n",
      "E     Omitting 3 identical items, use -vv to show\n",
      "E     Left contains 3 more items:\n",
      "E     {'CTGTC': 1, 'GTCTG': 2, 'TGTCT': 2}\n",
      "E     Use -v to get the full diff\n",
      "\n",
      "Test_function.py:71: AssertionError\n",
      "_____________________________ test_substring_poss ______________________________\n",
      "\n",
      "    assert substring_poss(\"ATGTCTGTCTGTA\", 2) == 12\n",
      "    #Test Case 2\n",
      ">   assert substring_poss(\"AAAAAA\", 2) == 5\n",
      "E   AssertionError: assert 12 == 0\n",
      "E    +  where 12 = substring_poss('ATGTCTGTCTGTA', 2)\n",
      "\n",
      "Test_function.py:75: AssertionError\n",
      "_______________________________ test_complexity ________________________________\n",
      "\n",
      ">   ???\n",
      "E   AssertionError: assert 0.5396825396825397 == 0.53\n",
      "E    +  where 0.5396825396825397 = complexity('ATGTCTGTCTGTA')\n",
      "\n",
      "Test_function.py:83: AssertionError\n",
      "=========================== short test summary info ============================\n",
      "FAILED Test_function.py::test_substring - AssertionError: assert {'ATGTC': 1,...\n",
      "FAILED Test_function.py::test_substring_poss - AssertionError: assert 12 == 0\n",
      "FAILED Test_function.py::test_complexity - AssertionError: assert 0.539682539...\n",
      "============================== 3 failed in 0.04s ===============================\n"
     ]
    },
    {
     "ename": "SystemExit",
     "evalue": "ExitCode.TESTS_FAILED",
     "output_type": "error",
     "traceback": [
      "\u001b[0;31m---------------------------------------------------------------------------\u001b[0m",
      "\u001b[0;31mSystemExit\u001b[0m                                Traceback (most recent call last)",
      "\u001b[0;32m/usr/lib64/python3.6/runpy.py\u001b[0m in \u001b[0;36mrun_module\u001b[0;34m(mod_name, init_globals, run_name, alter_sys)\u001b[0m\n\u001b[1;32m    203\u001b[0m         \u001b[0mrun_name\u001b[0m \u001b[0;34m=\u001b[0m \u001b[0mmod_name\u001b[0m\u001b[0;34m\u001b[0m\u001b[0;34m\u001b[0m\u001b[0m\n\u001b[1;32m    204\u001b[0m     \u001b[0;32mif\u001b[0m \u001b[0malter_sys\u001b[0m\u001b[0;34m:\u001b[0m\u001b[0;34m\u001b[0m\u001b[0;34m\u001b[0m\u001b[0m\n\u001b[0;32m--> 205\u001b[0;31m         \u001b[0;32mreturn\u001b[0m \u001b[0m_run_module_code\u001b[0m\u001b[0;34m(\u001b[0m\u001b[0mcode\u001b[0m\u001b[0;34m,\u001b[0m \u001b[0minit_globals\u001b[0m\u001b[0;34m,\u001b[0m \u001b[0mrun_name\u001b[0m\u001b[0;34m,\u001b[0m \u001b[0mmod_spec\u001b[0m\u001b[0;34m)\u001b[0m\u001b[0;34m\u001b[0m\u001b[0;34m\u001b[0m\u001b[0m\n\u001b[0m\u001b[1;32m    206\u001b[0m     \u001b[0;32melse\u001b[0m\u001b[0;34m:\u001b[0m\u001b[0;34m\u001b[0m\u001b[0;34m\u001b[0m\u001b[0m\n\u001b[1;32m    207\u001b[0m         \u001b[0;31m# Leave the sys module alone\u001b[0m\u001b[0;34m\u001b[0m\u001b[0;34m\u001b[0m\u001b[0;34m\u001b[0m\u001b[0m\n",
      "\u001b[0;32m/usr/lib64/python3.6/runpy.py\u001b[0m in \u001b[0;36m_run_module_code\u001b[0;34m(code, init_globals, mod_name, mod_spec, pkg_name, script_name)\u001b[0m\n\u001b[1;32m     94\u001b[0m         \u001b[0mmod_globals\u001b[0m \u001b[0;34m=\u001b[0m \u001b[0mtemp_module\u001b[0m\u001b[0;34m.\u001b[0m\u001b[0mmodule\u001b[0m\u001b[0;34m.\u001b[0m\u001b[0m__dict__\u001b[0m\u001b[0;34m\u001b[0m\u001b[0;34m\u001b[0m\u001b[0m\n\u001b[1;32m     95\u001b[0m         _run_code(code, mod_globals, init_globals,\n\u001b[0;32m---> 96\u001b[0;31m                   mod_name, mod_spec, pkg_name, script_name)\n\u001b[0m\u001b[1;32m     97\u001b[0m     \u001b[0;31m# Copy the globals of the temporary module, as they\u001b[0m\u001b[0;34m\u001b[0m\u001b[0;34m\u001b[0m\u001b[0;34m\u001b[0m\u001b[0m\n\u001b[1;32m     98\u001b[0m     \u001b[0;31m# may be cleared when the temporary module goes away\u001b[0m\u001b[0;34m\u001b[0m\u001b[0;34m\u001b[0m\u001b[0;34m\u001b[0m\u001b[0m\n",
      "\u001b[0;32m/usr/lib64/python3.6/runpy.py\u001b[0m in \u001b[0;36m_run_code\u001b[0;34m(code, run_globals, init_globals, mod_name, mod_spec, pkg_name, script_name)\u001b[0m\n\u001b[1;32m     83\u001b[0m                        \u001b[0m__package__\u001b[0m \u001b[0;34m=\u001b[0m \u001b[0mpkg_name\u001b[0m\u001b[0;34m,\u001b[0m\u001b[0;34m\u001b[0m\u001b[0;34m\u001b[0m\u001b[0m\n\u001b[1;32m     84\u001b[0m                        __spec__ = mod_spec)\n\u001b[0;32m---> 85\u001b[0;31m     \u001b[0mexec\u001b[0m\u001b[0;34m(\u001b[0m\u001b[0mcode\u001b[0m\u001b[0;34m,\u001b[0m \u001b[0mrun_globals\u001b[0m\u001b[0;34m)\u001b[0m\u001b[0;34m\u001b[0m\u001b[0;34m\u001b[0m\u001b[0m\n\u001b[0m\u001b[1;32m     86\u001b[0m     \u001b[0;32mreturn\u001b[0m \u001b[0mrun_globals\u001b[0m\u001b[0;34m\u001b[0m\u001b[0;34m\u001b[0m\u001b[0m\n\u001b[1;32m     87\u001b[0m \u001b[0;34m\u001b[0m\u001b[0m\n",
      "\u001b[0;32m/usr/local/lib/python3.6/site-packages/pytest/__main__.py\u001b[0m in \u001b[0;36m<module>\u001b[0;34m\u001b[0m\n\u001b[1;32m      5\u001b[0m \u001b[0;34m\u001b[0m\u001b[0m\n\u001b[1;32m      6\u001b[0m \u001b[0;32mif\u001b[0m \u001b[0m__name__\u001b[0m \u001b[0;34m==\u001b[0m \u001b[0;34m\"__main__\"\u001b[0m\u001b[0;34m:\u001b[0m\u001b[0;34m\u001b[0m\u001b[0;34m\u001b[0m\u001b[0m\n\u001b[0;32m----> 7\u001b[0;31m     \u001b[0;32mraise\u001b[0m \u001b[0mSystemExit\u001b[0m\u001b[0;34m(\u001b[0m\u001b[0mpytest\u001b[0m\u001b[0;34m.\u001b[0m\u001b[0mmain\u001b[0m\u001b[0;34m(\u001b[0m\u001b[0;34m)\u001b[0m\u001b[0;34m)\u001b[0m\u001b[0;34m\u001b[0m\u001b[0;34m\u001b[0m\u001b[0m\n\u001b[0m",
      "\u001b[0;31mSystemExit\u001b[0m: ExitCode.TESTS_FAILED"
     ]
    },
    {
     "name": "stderr",
     "output_type": "stream",
     "text": [
      "/usr/lib/python3.6/site-packages/IPython/core/interactiveshell.py:2819: UserWarning: Unknown failure executing module: <pytest>\n",
      "  warn('Unknown failure executing module: <%s>' % mod_name)\n"
     ]
    }
   ],
   "source": [
    "%run -m pytest Test_function.py"
   ]
  },
  {
   "cell_type": "code",
   "execution_count": null,
   "metadata": {},
   "outputs": [],
   "source": []
  }
 ],
 "metadata": {
  "kernelspec": {
   "display_name": "Python 3",
   "language": "python",
   "name": "python3"
  },
  "language_info": {
   "codemirror_mode": {
    "name": "ipython",
    "version": 3
   },
   "file_extension": ".py",
   "mimetype": "text/x-python",
   "name": "python",
   "nbconvert_exporter": "python",
   "pygments_lexer": "ipython3",
   "version": "3.6.8"
  }
 },
 "nbformat": 4,
 "nbformat_minor": 4
}
